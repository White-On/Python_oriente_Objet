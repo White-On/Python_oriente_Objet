{
 "cells": [
  {
   "cell_type": "markdown",
   "metadata": {},
   "source": [
    "# Python orienté Objet\n",
    "\n",
    "Ceci est mon jupyter notebook sur la programmation orienté objet pour Python\n",
    "\n",
    "## Les classes\n",
    "\n",
    ">**La création de la classe** ce fait comme pour une fonction, avec `class Nom_classe` ( a noté que par convention le nom d'une classe commence par une majuscule ). Le constructeur sera vus plus tard. On crée une nouvelle instance de notre classe comme en java sans le new devant ce qui donne `Nom_classe()`. on vois bien que type de la notre objet est maintenant <class '__main__.Nom_class'> . \n",
    "\n",
    ">**Les attributs** sont eux définient avec un point après le nom de notre intération mais sont propre uniquement a l'itération elle même pour le moment."
   ]
  },
  {
   "cell_type": "code",
   "execution_count": 1,
   "metadata": {},
   "outputs": [
    {
     "name": "stdout",
     "output_type": "stream",
     "text": [
      "<class '__main__.Point'>\n",
      "<class 'int'>\n",
      "<class 'int'>\n"
     ]
    }
   ],
   "source": [
    "class Point:\n",
    "    pass\n",
    "\n",
    "point1 = Point()\n",
    "point1.X = 5\n",
    "point1.Y = 10\n",
    "\n",
    "print(type(point1))\n",
    "print(type(point1.X))\n",
    "print(type(point1.Y))"
   ]
  },
  {
   "cell_type": "markdown",
   "metadata": {},
   "source": [
    " ## Les Méthodes\n",
    "\n",
    ">Les méthodes, à ne pas confondre avec les fonctions, permettent de réaliser comme les fonction des taches très spécifique à l'object ce qui permet de faire un action propre a l'objet. Elles se définisent directement dans la class ( toujours sans constructeur ici ca vas venir ) et fonctionnent comme des fonctions dans leurs syntaxes mais require **TOUJOURS** l'argument `self`. En effet, comme nous avons définie notre méthode directement dans la class, python vas fournir un argument par défaut, l'objet lui même ce qui a terme sera une clé de compréhension de la programmation objet."
   ]
  },
  {
   "cell_type": "code",
   "execution_count": 5,
   "metadata": {},
   "outputs": [
    {
     "name": "stdout",
     "output_type": "stream",
     "text": [
      "Bonjour ! Je m'appelle Jules Cassan et j'ai 21 ans.\n"
     ]
    }
   ],
   "source": [
    "class Personne:\n",
    "    def affiche_info(self, nom, prenom, age):\n",
    "        print(\"Bonjour ! Je m'appelle {0} {1} et j'ai {2} ans.\".format(prenom,nom,age))\n",
    "\n",
    "pers1 = Personne()\n",
    "pers1.nom = 'Cassan'\n",
    "pers1.prenom = 'Jules'\n",
    "pers1.age = 21\n",
    "\n",
    "pers1.affiche_info(pers1.nom,pers1.prenom,pers1.age)"
   ]
  },
  {
   "cell_type": "markdown",
   "metadata": {},
   "source": [
    "## Le Constructeur\n",
    "\n",
    ">Petite note pour commencer, il semble qu'il existe plusieurs constructeur en python mais je ne me pencherais que sur le plus important pour moi qui est le `__init__(self)`. \n",
    "\n",
    "Les constructeurs sont donc des éléments de l'objet qui sont crée directement lorsque l'objet est crée. Python vas donc utiliser ces méthodes spécials lors de la création de l'oject et si il manque des informations, l'object ne pourra pas etre crée.\n",
    "\n",
    "Un nouvel aspect que l'on peu maintenant aussi exploré c'est la création d'attribut pour une classe entière ! En effet jusqu'a maintenant, les attributs n'étais liées qu'a l'instance que l'on venais de crée. Par exemple une `class Couleur` voudrais bien avoir dans tout les cas la teneur de pigment pour le rouge, le vert et le bleu dans tout les cas. Donc en utilisant `self`, on peux imposer comme règles/fondement de notre objet qu'il posède certains attributs et les modifiées a volonté dans chaque méthodes de l'objet avec `self` étant attribut de chacune d'elles.\n",
    "\n",
    ">Tout en ajoutant que des objets utilisent d'autre objets et on peux avoir un degre de complexité et de détail incroyable !\n",
    "\n",
    ">Et comme les autres fonctions, les attributs peuvent prendre des valeurs par défauts. Par exemple : \n",
    ">>`def __init__(self,quantitée = 50):`"
   ]
  },
  {
   "cell_type": "code",
   "execution_count": 4,
   "metadata": {},
   "outputs": [
    {
     "name": "stdout",
     "output_type": "stream",
     "text": [
      "Vous venez de crée une jolie couleur !\n",
      "\n",
      "Je suis une voiture, je sors de l'usine, je viens d'être crée !\n",
      "\n",
      "J'arbore une jolie couleur ! Voici sa description si vous voulez la refaire !\n",
      "Rouge: 150, Vert: 20, Bleu: 70\n"
     ]
    }
   ],
   "source": [
    "class Couleur:\n",
    "    # pour crée une couleur en informatique, on utilise la quantitée de pigment rouge,vert et bleu qu'un pixel prend\n",
    "    # cette valeur est un entier entre 0 et 255 compris\n",
    "    def __init__(self,teneur_r,teneur_v,teneur_b):\n",
    "        self.teneur_rouge = teneur_r\n",
    "        self.teneur_vert = teneur_v\n",
    "        self.teneur_bleu = teneur_b\n",
    "        print(\"Vous venez de crée une jolie couleur !\\n\")\n",
    "        \n",
    "orange = Couleur(150,20,70)\n",
    "\n",
    "class Voiture:\n",
    "    def __init__(self,couleur):\n",
    "        print(\"Je suis une voiture, je sors de l'usine, je viens d'être crée !\\n\")\n",
    "        self.couleur = couleur #la couleur est maintenant un attribut d'une voiture\n",
    "\n",
    "    def affiche_couleur(self):\n",
    "        #comme la couleur est un attribut pas besoin de l'ajouter aux paramètres de la méthode\n",
    "        print(\"J'arbore une jolie couleur ! Voici sa description si vous voulez la refaire !\")\n",
    "        print(\"Rouge: {0}, Vert: {1}, Bleu: {2}\".format(self.couleur.teneur_rouge,self.couleur.teneur_vert,self.couleur.teneur_bleu))\n",
    "        \n",
    "voiture_orange = Voiture(orange)\n",
    "voiture_orange.affiche_couleur()"
   ]
  },
  {
   "cell_type": "markdown",
   "metadata": {},
   "source": [
    "Maintenant, on vas essayer d'améliorer le code en le rendant plus robuste en typant nos variables. Actuellement les paramètres de constructions de nos objets sont des variables tel que des **integer, string et d'autres objets** mais pour éviter de gros bugs/erreurs on veux s'assurer que l'on donne bien des argument avec le bon type. Pour ce faire on précise le type attendu comme ceci : \n",
    "\n",
    "`def __init__(self, nom: str, prenom: str, couleur_yeux: Couleur)`\n",
    "\n",
    ">On note que le cas de float et int est particulier car un float peux prendre un int mais un int ne peux pas prendre un float.\n",
    ">La valeur par défaut permet également de typer le paramètre."
   ]
  },
  {
   "cell_type": "code",
   "execution_count": 8,
   "metadata": {},
   "outputs": [
    {
     "name": "stdout",
     "output_type": "stream",
     "text": [
      "J'arbore une jolie couleur ! Voici sa description si vous voulez la refaire !\n",
      "Rouge: 20, Vert: 200, Bleu: 30\n",
      "J'arbore une jolie couleur ! Voici sa description si vous voulez la refaire !\n",
      "Rouge: 150, Vert: 20, Bleu: 70\n"
     ]
    }
   ],
   "source": [
    "class Couleur:\n",
    "    # pour crée une couleur en informatique, on utilise la quantitée de pigment rouge,vert et bleu qu'un pixel prend\n",
    "    # cette valeur est un entier entre 0 et 255 compris\n",
    "    def __init__(self,teneur_r: int,teneur_v: float,teneur_b: int):\n",
    "        self.teneur_rouge = teneur_r\n",
    "        self.teneur_vert = teneur_v\n",
    "        self.teneur_bleu = teneur_b\n",
    "        \n",
    "vert = Couleur(20,200,30)\n",
    "\n",
    "class Voiture:\n",
    "    def __init__(self,couleur: Couleur = orange):\n",
    "        self.couleur = couleur \n",
    "\n",
    "    def affiche_couleur(self):\n",
    "        print(\"J'arbore une jolie couleur ! Voici sa description si vous voulez la refaire !\")\n",
    "        print(\"Rouge: {0}, Vert: {1}, Bleu: {2}\".format(self.couleur.teneur_rouge,self.couleur.teneur_vert,self.couleur.teneur_bleu))\n",
    "        \n",
    "#On précise la couleur ici\n",
    "voiture_verte = Voiture(vert)\n",
    "voiture_verte.affiche_couleur()\n",
    "\n",
    "#la voiture par défaut est orange comme on l'a précisée\n",
    "voiture = Voiture()\n",
    "voiture.affiche_couleur()"
   ]
  },
  {
   "cell_type": "markdown",
   "metadata": {},
   "source": [
    "Il est également possible d'utiliser l'outil `assert` pour vérifier en avance si les attributs sont corrects/ adaptés à l'utilisation que l'on souhaite en faire."
   ]
  },
  {
   "cell_type": "code",
   "execution_count": 11,
   "metadata": {},
   "outputs": [
    {
     "name": "stdout",
     "output_type": "stream",
     "text": [
      "Ordinateur, prix: 500, note: 4\n"
     ]
    },
    {
     "ename": "AssertionError",
     "evalue": "-500 ne peux pas être inférieur ou égal à 0.",
     "output_type": "error",
     "traceback": [
      "\u001b[1;31m---------------------------------------------------------------------------\u001b[0m",
      "\u001b[1;31mAssertionError\u001b[0m                            Traceback (most recent call last)",
      "\u001b[1;32m~\\AppData\\Local\\Temp/ipykernel_14272/1739919898.py\u001b[0m in \u001b[0;36m<module>\u001b[1;34m\u001b[0m\n\u001b[0;32m     11\u001b[0m \u001b[0mordi1\u001b[0m \u001b[1;33m=\u001b[0m \u001b[0mOrdinateur\u001b[0m\u001b[1;33m(\u001b[0m\u001b[1;36m500\u001b[0m\u001b[1;33m,\u001b[0m\u001b[1;36m4\u001b[0m\u001b[1;33m)\u001b[0m\u001b[1;33m\u001b[0m\u001b[1;33m\u001b[0m\u001b[0m\n\u001b[0;32m     12\u001b[0m \u001b[1;33m\u001b[0m\u001b[0m\n\u001b[1;32m---> 13\u001b[1;33m \u001b[0mordi2\u001b[0m \u001b[1;33m=\u001b[0m \u001b[0mOrdinateur\u001b[0m\u001b[1;33m(\u001b[0m\u001b[1;33m-\u001b[0m\u001b[1;36m500\u001b[0m\u001b[1;33m,\u001b[0m\u001b[1;36m6\u001b[0m\u001b[1;33m)\u001b[0m\u001b[1;33m\u001b[0m\u001b[1;33m\u001b[0m\u001b[0m\n\u001b[0m\u001b[0;32m     14\u001b[0m \u001b[1;33m\u001b[0m\u001b[0m\n",
      "\u001b[1;32m~\\AppData\\Local\\Temp/ipykernel_14272/1739919898.py\u001b[0m in \u001b[0;36m__init__\u001b[1;34m(self, prix, note)\u001b[0m\n\u001b[0;32m      2\u001b[0m     \u001b[1;32mdef\u001b[0m \u001b[0m__init__\u001b[0m\u001b[1;33m(\u001b[0m\u001b[0mself\u001b[0m\u001b[1;33m,\u001b[0m\u001b[0mprix\u001b[0m\u001b[1;33m:\u001b[0m \u001b[0mint\u001b[0m\u001b[1;33m,\u001b[0m \u001b[0mnote\u001b[0m\u001b[1;33m:\u001b[0m \u001b[0mint\u001b[0m\u001b[1;33m)\u001b[0m\u001b[1;33m:\u001b[0m\u001b[1;33m\u001b[0m\u001b[1;33m\u001b[0m\u001b[0m\n\u001b[0;32m      3\u001b[0m         \u001b[1;31m#vérification des valeurs\u001b[0m\u001b[1;33m\u001b[0m\u001b[1;33m\u001b[0m\u001b[0m\n\u001b[1;32m----> 4\u001b[1;33m         \u001b[1;32massert\u001b[0m \u001b[0mprix\u001b[0m \u001b[1;33m>=\u001b[0m \u001b[1;36m0\u001b[0m\u001b[1;33m,\u001b[0m \u001b[1;34mf\"{prix} ne peux pas être inférieur ou égal à 0.\"\u001b[0m\u001b[1;33m\u001b[0m\u001b[1;33m\u001b[0m\u001b[0m\n\u001b[0m\u001b[0;32m      5\u001b[0m         \u001b[1;32massert\u001b[0m \u001b[0mnote\u001b[0m \u001b[1;33m>\u001b[0m \u001b[1;36m0\u001b[0m \u001b[1;32mand\u001b[0m \u001b[0mnote\u001b[0m \u001b[1;33m<\u001b[0m\u001b[1;36m6\u001b[0m\u001b[1;33m,\u001b[0m \u001b[1;34mf\"{note} ne peux pas être inférieur à 0 ou supérieur à 5.\"\u001b[0m\u001b[1;33m\u001b[0m\u001b[1;33m\u001b[0m\u001b[0m\n\u001b[0;32m      6\u001b[0m         \u001b[1;31m#attibutions des valeurs\u001b[0m\u001b[1;33m\u001b[0m\u001b[1;33m\u001b[0m\u001b[0m\n",
      "\u001b[1;31mAssertionError\u001b[0m: -500 ne peux pas être inférieur ou égal à 0."
     ]
    }
   ],
   "source": [
    "class Ordinateur:\n",
    "    def __init__(self,prix: int, note: int):\n",
    "        #vérification des valeurs\n",
    "        assert prix > 0, f\"le prix (ici {prix})  ne peux pas être inférieur à 0.\"\n",
    "        assert note > 0 and note <6, f\"la note (ici {note}) ne peux pas être inférieur à 0 ou supérieur à 5.\"\n",
    "        #attibutions des valeurs\n",
    "        self.prix = prix\n",
    "        self.note = note\n",
    "        print(f\"Ordinateur, prix: {prix}, note: {note}\")\n",
    "\n",
    "ordi1 = Ordinateur(500,4)\n",
    "\n",
    "#ici on aura un retour sur l'assertion -> un exception.\n",
    "ordi2 = Ordinateur(-500,6)"
   ]
  },
  {
   "cell_type": "markdown",
   "metadata": {},
   "source": [
    "## Les Attributs le retour \n",
    "\n",
    ">Jusqu'a maintenant les attributs étais propre à l'instance d'objet que l'on créais. Mais on peux aussi vouloir avoir des attributs qui soient valable sur l'ensemble des objets, des **attributs de classe**. Celon moi on peu comparer cela a des attributs **static** vus en *Java*.\n",
    ">>L'outil `__dict__` permet de regarder les attributs liés a une instance ou à la classe toute entière à travers un dictionnaire.\n"
   ]
  },
  {
   "cell_type": "markdown",
   "metadata": {},
   "source": [
    "\n",
    ">Attention: les attributs d'instance seront toujours les plus prioritaire sur ceux de l'instance. Si mon objet possède l'attribut de classe `prix` et l'attribut d'instance du même nom, alors la valeur utiliser lorsque l'on fera `self.prix` sera celle de l'instance. Pour avoir l'attribut de classe dans tout les cas on utilise `Classe.attribut`.\n"
   ]
  },
  {
   "cell_type": "code",
   "execution_count": 52,
   "metadata": {},
   "outputs": [
    {
     "name": "stdout",
     "output_type": "stream",
     "text": [
      "Grâce à notre promotion de 20%, votre ordinateur passe de 500€ à 400€!\n",
      "\n",
      "dictionnaire de la classe Ordinateur : {'__module__': '__main__', 'reduction': 0.8, '__init__': <function Ordinateur.__init__ at 0x0000015BD3B55310>, 'calcul_prix': <function Ordinateur.calcul_prix at 0x0000015BD3B55AF0>, 'solde': <function Ordinateur.solde at 0x0000015BD3B553A0>, '__dict__': <attribute '__dict__' of 'Ordinateur' objects>, '__weakref__': <attribute '__weakref__' of 'Ordinateur' objects>, '__doc__': None}\n",
      "dictionnaire de l'instance ordi_promo : {'prix': 500, 'note': 5}\n",
      "\n",
      "Grâce à notre promotion de 40%, votre ordinateur passe de 500€ à 300€!\n",
      "\n",
      "dictionnaire de la classe Ordinateur : {'__module__': '__main__', 'reduction': 0.6, '__init__': <function Ordinateur.__init__ at 0x0000015BD3B55310>, 'calcul_prix': <function Ordinateur.calcul_prix at 0x0000015BD3B55AF0>, 'solde': <function Ordinateur.solde at 0x0000015BD3B553A0>, '__dict__': <attribute '__dict__' of 'Ordinateur' objects>, '__weakref__': <attribute '__weakref__' of 'Ordinateur' objects>, '__doc__': None}\n",
      "dictionnaire de l'instance ordi_promo : {'prix': 500, 'note': 5}\n"
     ]
    }
   ],
   "source": [
    "class Ordinateur:\n",
    "    reduction = 0.8 #reduction de 20%\n",
    "    def __init__(self,prix: int, note: int):\n",
    "        self.prix = prix\n",
    "        self.note = note\n",
    "    def calcul_prix(self):\n",
    "        prix_soldee = self.prix * self.reduction\n",
    "        print(f\"Grâce à notre promotion de {int(round(1-self.reduction,1)*100)}%, votre ordinateur passe de {self.prix}€ à {int(prix_soldee)}€!\\n\")\n",
    "        return prix_soldee\n",
    "    def solde(self,promo: int):\n",
    "        Ordinateur.reduction = promo\n",
    "\n",
    "ordi_promo = Ordinateur(500,5)\n",
    "ordi_promo.calcul_prix()\n",
    "\n",
    "#on peux vraimet voir ici les différences d'attributs que ce partage l'instance d'un objet et la classe de l'objet\n",
    "print(f\"dictionnaire de la classe Ordinateur : {Ordinateur.__dict__}\")\n",
    "print(f\"dictionnaire de l'instance ordi_promo : {ordi_promo.__dict__}\\n\")\n",
    "\n",
    "ordi_promo.solde(0.6) #promo de 40%\n",
    "ordi_promo.calcul_prix()\n",
    "\n",
    "print(f\"dictionnaire de la classe Ordinateur : {Ordinateur.__dict__}\")\n",
    "print(f\"dictionnaire de l'instance ordi_promo : {ordi_promo.__dict__}\")\n"
   ]
  },
  {
   "cell_type": "markdown",
   "metadata": {},
   "source": [
    "Pour facilitée l'affichage, on peux utiliser un des constructeurs magiques `__str__`"
   ]
  },
  {
   "cell_type": "code",
   "execution_count": 38,
   "metadata": {},
   "outputs": [
    {
     "name": "stdout",
     "output_type": "stream",
     "text": [
      "Nom :Téléphone, Quantitée:10\n"
     ]
    }
   ],
   "source": [
    "class Objet_vente:\n",
    "    def __init__(self,nom: str,quantitee: int):\n",
    "        self.nom = nom\n",
    "        self.quantitee = quantitee\n",
    "    def __str__(self):\n",
    "        return f\"Nom :{self.nom}, Quantitée:{self.quantitee}\"\n",
    "    \n",
    "item1 = Objet_vente(\"Téléphone\",10)\n",
    "print(item1)"
   ]
  },
  {
   "cell_type": "markdown",
   "metadata": {},
   "source": [
    "Le constructeur magique `__repr__`effectue un travail de représentation similaire à `__str__` mais doit resemblé le plus fidèlement possible à l'instanciation de l'objet par convention."
   ]
  },
  {
   "cell_type": "code",
   "execution_count": 42,
   "metadata": {},
   "outputs": [
    {
     "name": "stdout",
     "output_type": "stream",
     "text": [
      "Objet_vente('Téléphone',10)\n"
     ]
    }
   ],
   "source": [
    "class Objet_vente:\n",
    "    def __init__(self,nom: str,quantitee: int):\n",
    "        self.nom = nom\n",
    "        self.quantitee = quantitee\n",
    "    def __repr__(self):\n",
    "        return f\"Objet_vente('{self.nom}',{self.quantitee})\"\n",
    "    \n",
    "item1 = Objet_vente(\"Téléphone\",10)\n",
    "print(item1)"
   ]
  },
  {
   "cell_type": "markdown",
   "metadata": {},
   "source": [
    "Pour gérée/répertorié l'ensemble de nos instances, On vas crée un attributs de classe qui vas recensée toutes les instances lors de la création. On vas pouvoir a terme parcourir ces instances ce qui peu etre exêmement pratique!"
   ]
  },
  {
   "cell_type": "code",
   "execution_count": 45,
   "metadata": {},
   "outputs": [
    {
     "name": "stdout",
     "output_type": "stream",
     "text": [
      "Il y a un total de 5 d'objet à vendre.\n",
      "\n",
      "[<__main__.Objet_vente object at 0x0000015BD3B5FDC0>, <__main__.Objet_vente object at 0x0000015BD3B5F430>, <__main__.Objet_vente object at 0x0000015BD3B5FE80>, <__main__.Objet_vente object at 0x0000015BD3B5F220>, <__main__.Objet_vente object at 0x0000015BD3B5F280>]\n",
      "\n",
      "Nom :Téléphone, Quantitée:10\n",
      "Nom :Télévision, Quantitée:20\n",
      "Nom :Casque, Quantitée:60\n",
      "Nom :Clavier, Quantitée:50\n",
      "Nom :Enceinte, Quantitée:100\n"
     ]
    }
   ],
   "source": [
    "class Objet_vente:\n",
    "    all = [] # la liste qui vas contenir toutes les instances\n",
    "    def __init__(self,nom: str,quantitee: int):\n",
    "        self.nom = nom\n",
    "        self.quantitee = quantitee\n",
    "        Objet_vente.all.append(self)\n",
    "    def __str__(self):\n",
    "        return f\"Nom :{self.nom}, Quantitée:{self.quantitee}\"\n",
    "    \n",
    "item1 = Objet_vente(\"Téléphone\",10)\n",
    "item2 = Objet_vente(\"Télévision\",20)\n",
    "item3 = Objet_vente(\"Casque\",60)\n",
    "item4 = Objet_vente(\"Clavier\",50)\n",
    "item5 = Objet_vente(\"Enceinte\",100)\n",
    "\n",
    "print(f\"Il y a un total de {len(Objet_vente.all)} d'objets à vendre.\\n\")\n",
    "print(Objet_vente.all) #un peu illisible mais on vois bien qu'il y a 5 objets\n",
    "print(\"\")\n",
    "\n",
    "for obj in Objet_vente.all:\n",
    "    print(obj)"
   ]
  },
  {
   "cell_type": "markdown",
   "metadata": {},
   "source": [
    "## Méthode de classe\n",
    "\n",
    "Les méthodes de classe sont des méthodes directement geré par la classe elle même. Elles simplémentent en ajoutant `@classmethod` avant la méthode. De plus l'instance n'est plus passé en paramètre, mais la classe elle même donc `self`->`cls`"
   ]
  },
  {
   "cell_type": "code",
   "execution_count": 3,
   "metadata": {},
   "outputs": [
    {
     "name": "stdout",
     "output_type": "stream",
     "text": [
      "Glace\tOpéra\tParis-Best\tEclair au chocolat\t"
     ]
    }
   ],
   "source": [
    "class Dessert:\n",
    "    all = []\n",
    "    def __init__(self,nom: str, sucre: float):\n",
    "        self.nom = nom\n",
    "        self.sucre = sucre\n",
    "        Dessert.all.append(self)\n",
    "    def __str__(self):\n",
    "        return self.nom\n",
    "    @classmethod\n",
    "    def ajout_depuis_liste(self,tableau):\n",
    "        \"\"\"Permet de recuperer les desserts depuis une liste \"\"\"\n",
    "        for dess in tableau:\n",
    "            Dessert(dess[0],dess[1])\n",
    "\n",
    "liste_dessert = [['Glace',10],['Opéra',20],['Paris-Best',50],['Eclair au chocolat',15]]\n",
    "\n",
    "Dessert.ajout_depuis_liste(liste_dessert)\n",
    "\n",
    "for des in Dessert.all:\n",
    "    print(des,end =\"\\t\")"
   ]
  },
  {
   "cell_type": "markdown",
   "metadata": {},
   "source": [
    "## Méthode Statique \n",
    "\n",
    "Les méthodes statique devraient avoir une relation avec la classe mais de lien particulier pour quelque chose d'unique à chaque instance. On pourrais presque la comparer avec une fonction normale mais on souhaite malgré tout qu'elle est un lien avec la classe. Elles sont construites grâce au decorateur `@staticmethod` comme pour les méthodes de classe, mais n'a pas besoin d'un argument sur la classe (c'est pour cela qu'elle resemble beaucoup a une fonction lambda)."
   ]
  },
  {
   "cell_type": "code",
   "execution_count": 2,
   "metadata": {},
   "outputs": [
    {
     "name": "stdout",
     "output_type": "stream",
     "text": [
      "True\n",
      "True\n",
      "False\n"
     ]
    }
   ],
   "source": [
    "class Objet_vente:\n",
    "    def __init__(self,nom: str,quantitee: int):\n",
    "        self.nom = nom\n",
    "        self.quantitee = quantitee\n",
    "\n",
    "    @staticmethod\n",
    "    def is_integer(num):\n",
    "        if isinstance(num,float):\n",
    "            return num.is_integer()\n",
    "        elif isinstance(num,int):\n",
    "            return True\n",
    "        else:\n",
    "            return False\n",
    "#On aurais pu definir la même fonction ailleur dans le code \n",
    "print(Objet_vente.is_integer(5))\n",
    "print(Objet_vente.is_integer(5.0))\n",
    "print(Objet_vente.is_integer(5.5))"
   ]
  },
  {
   "cell_type": "markdown",
   "metadata": {},
   "source": [
    "## Héritage\n",
    "\n",
    "L'héritage en python simplémente de la facon suivante:\n",
    "* Création d'une classe parente `class Parent:`\n",
    "* Création d'une classe enfant  `class Child(Parent):`, suite à cela la classe enfant héritera des méthodes de la classe parente.\n",
    "* On crée un nouveau constructeur avec les anciens paramètres et de nouveaux si besoin `def __init(self,parametres*):`\n",
    "* Pour éviter de rééecrire du code en double, on fait appelle à la méthode `super()` utiliser comme ceci : `super().__init__(parametres_parent)`\n",
    "> Cela est valable pour pour les autres constructeurs si on souhaites les modifier. De plus pour `__repr__` et `__str__` il est pratique d'utiliser `self.__class__.__name__` pour directement aller cherche le nom de la class dans laquel on ce trouve pour ne pas redefinir ces constructeurs si l'on souhaite avoir un résultat quasi identique. \n",
    "\n"
   ]
  },
  {
   "cell_type": "markdown",
   "metadata": {},
   "source": [
    "## Sécuritée des attributs\n"
   ]
  },
  {
   "cell_type": "markdown",
   "metadata": {},
   "source": [
    "\n",
    "#### Attribut final\n",
    "\n",
    "Pour pouvoir définir un attribut final qui ne pourra donc qu'etre lu, on dois crée une methode dont le nom est celui de l'attribut ainsi qu'ajouter le decorateur `@property` à la méthode. \n"
   ]
  },
  {
   "cell_type": "markdown",
   "metadata": {},
   "source": [
    "\n",
    "#### Attribut privee (private)\n",
    "\n",
    "Jusqu'a maintenant tout nos attributs étaient public donc accessible partout dans le code mais parfois il est préférable que l'accès a certain attributs reste limité. Pour ce faire on ajoute `__` au début du nom de l'attribut en question. "
   ]
  },
  {
   "cell_type": "code",
   "execution_count": 9,
   "metadata": {},
   "outputs": [
    {
     "name": "stdout",
     "output_type": "stream",
     "text": [
      "Cassan\n"
     ]
    },
    {
     "ename": "AttributeError",
     "evalue": "can't set attribute",
     "output_type": "error",
     "traceback": [
      "\u001b[1;31m---------------------------------------------------------------------------\u001b[0m",
      "\u001b[1;31mAttributeError\u001b[0m                            Traceback (most recent call last)",
      "\u001b[1;32m~\\AppData\\Local\\Temp/ipykernel_2036/3272374413.py\u001b[0m in \u001b[0;36m<module>\u001b[1;34m\u001b[0m\n\u001b[0;32m     15\u001b[0m \u001b[0mprint\u001b[0m\u001b[1;33m(\u001b[0m\u001b[0mpers1\u001b[0m\u001b[1;33m.\u001b[0m\u001b[0mnom\u001b[0m\u001b[1;33m)\u001b[0m\u001b[1;33m\u001b[0m\u001b[1;33m\u001b[0m\u001b[0m\n\u001b[0;32m     16\u001b[0m \u001b[1;31m#Impossible de le modifier\u001b[0m\u001b[1;33m\u001b[0m\u001b[1;33m\u001b[0m\u001b[0m\n\u001b[1;32m---> 17\u001b[1;33m \u001b[0mpers1\u001b[0m\u001b[1;33m.\u001b[0m\u001b[0mprenom\u001b[0m \u001b[1;33m=\u001b[0m \u001b[1;34m'Arthur'\u001b[0m\u001b[1;33m\u001b[0m\u001b[1;33m\u001b[0m\u001b[0m\n\u001b[0m",
      "\u001b[1;31mAttributeError\u001b[0m: can't set attribute"
     ]
    }
   ],
   "source": [
    "class Personne:\n",
    "    def __init__(self,prenom: str, nom: str) -> None:\n",
    "        self.__nom = nom\n",
    "        self.__prenom = prenom\n",
    "\n",
    "    @property\n",
    "    def nom(self):\n",
    "        return self.__nom\n",
    "    \n",
    "    @property\n",
    "    def prenom(self):\n",
    "        return self.__prenom\n",
    "\n",
    "pers1 = Personne('Jules','Cassan')\n",
    "print(pers1.prenom)\n",
    "#Impossible de le modifier\n",
    "pers1.prenom = 'Arthur'"
   ]
  },
  {
   "cell_type": "markdown",
   "metadata": {},
   "source": [
    "## Setters\n",
    "\n",
    "Les setter permet d'avoir la main sur la modification/mise en place d'un attribut. C'est une autre méthode précédant un autre décorateur spécial `@nomAttribut.setter`.\n",
    "\n",
    "\n",
    "> Attention! Le fait d'ajouter un setter annule l'aspect privé de l'attribut vus juste avant."
   ]
  },
  {
   "cell_type": "code",
   "execution_count": 12,
   "metadata": {},
   "outputs": [
    {
     "name": "stdout",
     "output_type": "stream",
     "text": [
      "Jules\n",
      "Arthur\n"
     ]
    }
   ],
   "source": [
    "class Personne:\n",
    "    def __init__(self,prenom: str, nom: str) -> None:\n",
    "        self.__nom = nom\n",
    "        self.__prenom = prenom\n",
    "\n",
    "    @property\n",
    "    def nom(self):\n",
    "        return self.__nom\n",
    "    \n",
    "    @property\n",
    "    def prenom(self):\n",
    "        return self.__prenom\n",
    "    \n",
    "    @nom.setter\n",
    "    def nom(self,nouveau_nom):\n",
    "        self.__nom = nouveau_nom\n",
    "    \n",
    "    @prenom.setter\n",
    "    def prenom(self,nouveau_prenom):\n",
    "        #permet de controler comment les nom sont mis en place\n",
    "        if len(nouveau_prenom) >= 15:\n",
    "            raise Exception(\"nom trop long !\")\n",
    "        self.__prenom = nouveau_prenom\n",
    "    \n",
    "pers1 = Personne('Jules','Cassan')\n",
    "print(pers1.prenom)\n",
    "\n",
    "#Il est maintenant possible de le modifier\n",
    "\n",
    "pers1.prenom = 'Arthur'\n",
    "print(pers1.prenom)"
   ]
  },
  {
   "cell_type": "markdown",
   "metadata": {},
   "source": [
    "##  Méthode Privée/ Méthode Abstraite\n",
    "\n",
    "Pour qu'une méthode sois privée, on ajoute `__` devant le nom de la méthode.\n",
    "Pour qu'une méthode sois abstraite, on ajoute `@abstractmethod` devant le nom de la méthode."
   ]
  }
 ],
 "metadata": {
  "interpreter": {
   "hash": "854b428ce1f069f8dc947235bdb995249ea5eabdb16a8d1a280f20a9ef4e49e2"
  },
  "kernelspec": {
   "display_name": "Python 3.9.9 64-bit",
   "language": "python",
   "name": "python3"
  },
  "language_info": {
   "codemirror_mode": {
    "name": "ipython",
    "version": 3
   },
   "file_extension": ".py",
   "mimetype": "text/x-python",
   "name": "python",
   "nbconvert_exporter": "python",
   "pygments_lexer": "ipython3",
   "version": "3.9.9"
  },
  "orig_nbformat": 4
 },
 "nbformat": 4,
 "nbformat_minor": 2
}
